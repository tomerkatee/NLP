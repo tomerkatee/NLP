{
  "nbformat": 4,
  "nbformat_minor": 0,
  "metadata": {
    "colab": {
      "provenance": []
    },
    "kernelspec": {
      "name": "python3",
      "display_name": "Python 3"
    },
    "language_info": {
      "name": "python"
    },
    "widgets": {
      "application/vnd.jupyter.widget-state+json": {
        "db5fda3c172d4c3288c2a748c3339365": {
          "model_module": "@jupyter-widgets/controls",
          "model_name": "HBoxModel",
          "model_module_version": "1.5.0",
          "state": {
            "_dom_classes": [],
            "_model_module": "@jupyter-widgets/controls",
            "_model_module_version": "1.5.0",
            "_model_name": "HBoxModel",
            "_view_count": null,
            "_view_module": "@jupyter-widgets/controls",
            "_view_module_version": "1.5.0",
            "_view_name": "HBoxView",
            "box_style": "",
            "children": [
              "IPY_MODEL_e62ef6c089e84e52971957d2d74fa684",
              "IPY_MODEL_bf9468565fa8402aa4f48f0706cba81a",
              "IPY_MODEL_4dad5d5874a84b4e9b76e7a96bb130a8"
            ],
            "layout": "IPY_MODEL_c14c1c961df94aa9b4756e6977bc2a35"
          }
        },
        "e62ef6c089e84e52971957d2d74fa684": {
          "model_module": "@jupyter-widgets/controls",
          "model_name": "HTMLModel",
          "model_module_version": "1.5.0",
          "state": {
            "_dom_classes": [],
            "_model_module": "@jupyter-widgets/controls",
            "_model_module_version": "1.5.0",
            "_model_name": "HTMLModel",
            "_view_count": null,
            "_view_module": "@jupyter-widgets/controls",
            "_view_module_version": "1.5.0",
            "_view_name": "HTMLView",
            "description": "",
            "description_tooltip": null,
            "layout": "IPY_MODEL_29e7f7bdb3a84d0c9990690e85c1d28e",
            "placeholder": "​",
            "style": "IPY_MODEL_3fba487c569e48b1bf70b732e5443f15",
            "value": "100%"
          }
        },
        "bf9468565fa8402aa4f48f0706cba81a": {
          "model_module": "@jupyter-widgets/controls",
          "model_name": "FloatProgressModel",
          "model_module_version": "1.5.0",
          "state": {
            "_dom_classes": [],
            "_model_module": "@jupyter-widgets/controls",
            "_model_module_version": "1.5.0",
            "_model_name": "FloatProgressModel",
            "_view_count": null,
            "_view_module": "@jupyter-widgets/controls",
            "_view_module_version": "1.5.0",
            "_view_name": "ProgressView",
            "bar_style": "success",
            "description": "",
            "description_tooltip": null,
            "layout": "IPY_MODEL_44593bea4c8445a4b38fde20b6915f50",
            "max": 1,
            "min": 0,
            "orientation": "horizontal",
            "style": "IPY_MODEL_39f3e36f3fc14db39178562c8ab622eb",
            "value": 1
          }
        },
        "4dad5d5874a84b4e9b76e7a96bb130a8": {
          "model_module": "@jupyter-widgets/controls",
          "model_name": "HTMLModel",
          "model_module_version": "1.5.0",
          "state": {
            "_dom_classes": [],
            "_model_module": "@jupyter-widgets/controls",
            "_model_module_version": "1.5.0",
            "_model_name": "HTMLModel",
            "_view_count": null,
            "_view_module": "@jupyter-widgets/controls",
            "_view_module_version": "1.5.0",
            "_view_name": "HTMLView",
            "description": "",
            "description_tooltip": null,
            "layout": "IPY_MODEL_de5b5b2e52354367858da346e2e7a004",
            "placeholder": "​",
            "style": "IPY_MODEL_97833381354a438d9c8e5bdebdac1031",
            "value": " 1/1 [00:00&lt;00:00, 18.69it/s]"
          }
        },
        "c14c1c961df94aa9b4756e6977bc2a35": {
          "model_module": "@jupyter-widgets/base",
          "model_name": "LayoutModel",
          "model_module_version": "1.2.0",
          "state": {
            "_model_module": "@jupyter-widgets/base",
            "_model_module_version": "1.2.0",
            "_model_name": "LayoutModel",
            "_view_count": null,
            "_view_module": "@jupyter-widgets/base",
            "_view_module_version": "1.2.0",
            "_view_name": "LayoutView",
            "align_content": null,
            "align_items": null,
            "align_self": null,
            "border": null,
            "bottom": null,
            "display": null,
            "flex": null,
            "flex_flow": null,
            "grid_area": null,
            "grid_auto_columns": null,
            "grid_auto_flow": null,
            "grid_auto_rows": null,
            "grid_column": null,
            "grid_gap": null,
            "grid_row": null,
            "grid_template_areas": null,
            "grid_template_columns": null,
            "grid_template_rows": null,
            "height": null,
            "justify_content": null,
            "justify_items": null,
            "left": null,
            "margin": null,
            "max_height": null,
            "max_width": null,
            "min_height": null,
            "min_width": null,
            "object_fit": null,
            "object_position": null,
            "order": null,
            "overflow": null,
            "overflow_x": null,
            "overflow_y": null,
            "padding": null,
            "right": null,
            "top": null,
            "visibility": null,
            "width": null
          }
        },
        "29e7f7bdb3a84d0c9990690e85c1d28e": {
          "model_module": "@jupyter-widgets/base",
          "model_name": "LayoutModel",
          "model_module_version": "1.2.0",
          "state": {
            "_model_module": "@jupyter-widgets/base",
            "_model_module_version": "1.2.0",
            "_model_name": "LayoutModel",
            "_view_count": null,
            "_view_module": "@jupyter-widgets/base",
            "_view_module_version": "1.2.0",
            "_view_name": "LayoutView",
            "align_content": null,
            "align_items": null,
            "align_self": null,
            "border": null,
            "bottom": null,
            "display": null,
            "flex": null,
            "flex_flow": null,
            "grid_area": null,
            "grid_auto_columns": null,
            "grid_auto_flow": null,
            "grid_auto_rows": null,
            "grid_column": null,
            "grid_gap": null,
            "grid_row": null,
            "grid_template_areas": null,
            "grid_template_columns": null,
            "grid_template_rows": null,
            "height": null,
            "justify_content": null,
            "justify_items": null,
            "left": null,
            "margin": null,
            "max_height": null,
            "max_width": null,
            "min_height": null,
            "min_width": null,
            "object_fit": null,
            "object_position": null,
            "order": null,
            "overflow": null,
            "overflow_x": null,
            "overflow_y": null,
            "padding": null,
            "right": null,
            "top": null,
            "visibility": null,
            "width": null
          }
        },
        "3fba487c569e48b1bf70b732e5443f15": {
          "model_module": "@jupyter-widgets/controls",
          "model_name": "DescriptionStyleModel",
          "model_module_version": "1.5.0",
          "state": {
            "_model_module": "@jupyter-widgets/controls",
            "_model_module_version": "1.5.0",
            "_model_name": "DescriptionStyleModel",
            "_view_count": null,
            "_view_module": "@jupyter-widgets/base",
            "_view_module_version": "1.2.0",
            "_view_name": "StyleView",
            "description_width": ""
          }
        },
        "44593bea4c8445a4b38fde20b6915f50": {
          "model_module": "@jupyter-widgets/base",
          "model_name": "LayoutModel",
          "model_module_version": "1.2.0",
          "state": {
            "_model_module": "@jupyter-widgets/base",
            "_model_module_version": "1.2.0",
            "_model_name": "LayoutModel",
            "_view_count": null,
            "_view_module": "@jupyter-widgets/base",
            "_view_module_version": "1.2.0",
            "_view_name": "LayoutView",
            "align_content": null,
            "align_items": null,
            "align_self": null,
            "border": null,
            "bottom": null,
            "display": null,
            "flex": null,
            "flex_flow": null,
            "grid_area": null,
            "grid_auto_columns": null,
            "grid_auto_flow": null,
            "grid_auto_rows": null,
            "grid_column": null,
            "grid_gap": null,
            "grid_row": null,
            "grid_template_areas": null,
            "grid_template_columns": null,
            "grid_template_rows": null,
            "height": null,
            "justify_content": null,
            "justify_items": null,
            "left": null,
            "margin": null,
            "max_height": null,
            "max_width": null,
            "min_height": null,
            "min_width": null,
            "object_fit": null,
            "object_position": null,
            "order": null,
            "overflow": null,
            "overflow_x": null,
            "overflow_y": null,
            "padding": null,
            "right": null,
            "top": null,
            "visibility": null,
            "width": null
          }
        },
        "39f3e36f3fc14db39178562c8ab622eb": {
          "model_module": "@jupyter-widgets/controls",
          "model_name": "ProgressStyleModel",
          "model_module_version": "1.5.0",
          "state": {
            "_model_module": "@jupyter-widgets/controls",
            "_model_module_version": "1.5.0",
            "_model_name": "ProgressStyleModel",
            "_view_count": null,
            "_view_module": "@jupyter-widgets/base",
            "_view_module_version": "1.2.0",
            "_view_name": "StyleView",
            "bar_color": null,
            "description_width": ""
          }
        },
        "de5b5b2e52354367858da346e2e7a004": {
          "model_module": "@jupyter-widgets/base",
          "model_name": "LayoutModel",
          "model_module_version": "1.2.0",
          "state": {
            "_model_module": "@jupyter-widgets/base",
            "_model_module_version": "1.2.0",
            "_model_name": "LayoutModel",
            "_view_count": null,
            "_view_module": "@jupyter-widgets/base",
            "_view_module_version": "1.2.0",
            "_view_name": "LayoutView",
            "align_content": null,
            "align_items": null,
            "align_self": null,
            "border": null,
            "bottom": null,
            "display": null,
            "flex": null,
            "flex_flow": null,
            "grid_area": null,
            "grid_auto_columns": null,
            "grid_auto_flow": null,
            "grid_auto_rows": null,
            "grid_column": null,
            "grid_gap": null,
            "grid_row": null,
            "grid_template_areas": null,
            "grid_template_columns": null,
            "grid_template_rows": null,
            "height": null,
            "justify_content": null,
            "justify_items": null,
            "left": null,
            "margin": null,
            "max_height": null,
            "max_width": null,
            "min_height": null,
            "min_width": null,
            "object_fit": null,
            "object_position": null,
            "order": null,
            "overflow": null,
            "overflow_x": null,
            "overflow_y": null,
            "padding": null,
            "right": null,
            "top": null,
            "visibility": null,
            "width": null
          }
        },
        "97833381354a438d9c8e5bdebdac1031": {
          "model_module": "@jupyter-widgets/controls",
          "model_name": "DescriptionStyleModel",
          "model_module_version": "1.5.0",
          "state": {
            "_model_module": "@jupyter-widgets/controls",
            "_model_module_version": "1.5.0",
            "_model_name": "DescriptionStyleModel",
            "_view_count": null,
            "_view_module": "@jupyter-widgets/base",
            "_view_module_version": "1.2.0",
            "_view_name": "StyleView",
            "description_width": ""
          }
        }
      }
    }
  },
  "cells": [
    {
      "cell_type": "code",
      "execution_count": null,
      "metadata": {
        "id": "-Fj48N5THxUv"
      },
      "outputs": [],
      "source": [
        "def computeTF(token: str, doc: str):\n",
        "  pass"
      ]
    },
    {
      "cell_type": "code",
      "source": [
        "def computeDF(token: str, corpus: list):\n",
        "  pass"
      ],
      "metadata": {
        "id": "dH_neFJeMEbN"
      },
      "execution_count": null,
      "outputs": []
    },
    {
      "cell_type": "code",
      "source": [
        "def computeIDF(token: str, corpus: list):\n",
        "  pass"
      ],
      "metadata": {
        "id": "xoW7Osq7crW6"
      },
      "execution_count": null,
      "outputs": []
    },
    {
      "cell_type": "code",
      "source": [
        "def computeTFIDF(token: str, doc: str, corpus: str):\n",
        "  pass"
      ],
      "metadata": {
        "id": "Ccm-vrsgctZI"
      },
      "execution_count": null,
      "outputs": []
    },
    {
      "cell_type": "code",
      "source": [
        "pip install datasets"
      ],
      "metadata": {
        "id": "sFGUVkMFfBUR"
      },
      "execution_count": null,
      "outputs": []
    },
    {
      "cell_type": "code",
      "source": [
        "pip install apache_beam"
      ],
      "metadata": {
        "id": "TgJyHESjfz0W"
      },
      "execution_count": null,
      "outputs": []
    },
    {
      "cell_type": "code",
      "source": [
        "# constructing the corpus\n",
        "\n",
        "from datasets import load_dataset\n",
        "\n",
        "# loading wikipedia using HuggingFace\n",
        "wikipedia = load_dataset('wikipedia', '20220301.en', beam_runner='DirectRunner')\n",
        "\n",
        "# Searching for the New Zealand's wikipedia passage\n",
        "for passage in wikipedia['train']:\n",
        "  if passage['title'] == 'New Zealand':\n",
        "    new_zealand_passage = passage['text']\n",
        "    break\n",
        "\n",
        "# Breaking the passage into a corpus of sentences.\n",
        "corpus = new_zealand_passage.split('.')\n",
        "print(corpus)"
      ],
      "metadata": {
        "colab": {
          "base_uri": "https://localhost:8080/",
          "height": 105,
          "referenced_widgets": [
            "db5fda3c172d4c3288c2a748c3339365",
            "e62ef6c089e84e52971957d2d74fa684",
            "bf9468565fa8402aa4f48f0706cba81a",
            "4dad5d5874a84b4e9b76e7a96bb130a8",
            "c14c1c961df94aa9b4756e6977bc2a35",
            "29e7f7bdb3a84d0c9990690e85c1d28e",
            "3fba487c569e48b1bf70b732e5443f15",
            "44593bea4c8445a4b38fde20b6915f50",
            "39f3e36f3fc14db39178562c8ab622eb",
            "de5b5b2e52354367858da346e2e7a004",
            "97833381354a438d9c8e5bdebdac1031"
          ]
        },
        "id": "Pm75pVLFfGo1",
        "outputId": "06cf2099-a39d-440c-ae50-e9eac17e034a"
      },
      "execution_count": 12,
      "outputs": [
        {
          "output_type": "stream",
          "name": "stderr",
          "text": [
            "WARNING:datasets.builder:Found cached dataset wikipedia (/root/.cache/huggingface/datasets/wikipedia/20220301.en/2.0.0/aa542ed919df55cc5d3347f42dd4521d05ca68751f50dbc32bae2a7f1e167559)\n"
          ]
        },
        {
          "output_type": "display_data",
          "data": {
            "text/plain": [
              "  0%|          | 0/1 [00:00<?, ?it/s]"
            ],
            "application/vnd.jupyter.widget-view+json": {
              "version_major": 2,
              "version_minor": 0,
              "model_id": "db5fda3c172d4c3288c2a748c3339365"
            }
          },
          "metadata": {}
        },
        {
          "output_type": "stream",
          "name": "stdout",
          "text": [
            "['New Zealand ( ) is an island country in the southwestern Pacific Ocean', ' It consists of two main landmasses—the North Island () and the South Island ()—and over 700 smaller islands, covering a total area of ', ' New Zealand is about  east of Australia across the Tasman Sea and  south of the islands of New Caledonia, Fiji, and Tonga', \" The country's varied topography and sharp mountain peaks, including the Southern Alps, owe much to tectonic uplift and volcanic eruptions\", \" New Zealand's capital city is Wellington, and its most populous city is Auckland\", '\\n\\nOwing to their remoteness, the islands of New Zealand were the last large habitable landmass to be settled by humans', ' Between about 1280 and 1350, Polynesians began to settle in the islands and then developed a distinctive Māori culture', ' In 1642, the Dutch explorer Abel Tasman became the first European to sight and record New Zealand', ' In 1840, representatives of the United Kingdom and Māori chiefs signed the Treaty of Waitangi, which declared British sovereignty over the islands', ' In 1841, New Zealand became a colony within the British Empire, and in 1907 it became a dominion; it gained full statutory independence in 1947, and the British monarch remained the head of state', \" Today, the majority of New Zealand's population of 5 million is of European descent; the indigenous Māori are the largest minority, followed by Asians and Pacific Islanders\", \" Reflecting this, New Zealand's culture is mainly derived from Māori and early British settlers, with recent broadening of culture arising from increased immigration\", ' The official languages are English, Māori, and New Zealand Sign Language, with the local dialect of English being dominant', '\\n\\nA developed country, New Zealand ranks highly in international comparisons of national performance, such as quality of life, education, protection of civil liberties, government transparency, and economic freedom', ' New Zealand underwent major economic changes during the 1980s, which transformed it from a protectionist to a liberalised free-trade economy', ' The service sector dominates the national economy, followed by the industrial sector, and agriculture', ' International tourism is also a significant source of revenue', ' Nationally, legislative authority is vested in an elected, unicameral Parliament, while executive political power is exercised by the Cabinet, led by the prime minister, currently Jacinda Ardern', \" Queen Elizabeth II is the country's monarch and is represented by the governor-general\", ' In addition, New Zealand is organised into 11 regional councils and 67 territorial authorities for local government purposes', \" The Realm of New Zealand also includes Tokelau (a dependent territory); the Cook Islands and Niue (self-governing states in free association with New Zealand); and the Ross Dependency, which is New Zealand's territorial claim in Antarctica\", '\\n\\nNew Zealand is a member of the United Nations, Commonwealth of Nations, ANZUS, OECD, ASEAN Plus Six, Asia-Pacific Economic Cooperation, the Pacific Community and the Pacific Islands Forum', '\\n\\nEtymology\\n\\nThe first European visitor to New Zealand, Dutch explorer Abel Tasman, named the islands Staten Land, believing they were part of the  that Jacob Le Maire had sighted off the southern end of South America', \" Hendrik Brouwer proved that the South American land was a small island in 1643, and Dutch cartographers subsequently renamed Tasman's discovery  from Latin, after the Dutch province of Zeeland\", ' This name was later anglicised to New Zealand', '\\n\\nThis was written as Nu Tireni in the Māori language', ' In 1834 a document written in Māori and entitled \"\" was translated into English and became the Declaration of the Independence of New Zealand', ' It was prepared by , the United Tribes of New Zealand, and a copy was sent to King William IV who had already acknowledged the flag of the United Tribes of New Zealand, and who recognised the declaration in a letter from Lord Glenelg', \"\\n\\n (pronounced  in Māori and  in English; often translated as 'land of the long white cloud') is the current Māori name for New Zealand\", ' It is unknown whether Māori had a name for the whole country before the arrival of Europeans;  originally referred to just the North Island', \" Māori had several traditional names for the two main islands, including  ('the fish of ') for the North Island and  ('the waters of greenstone') or  ('the canoe of ') for the South Island\", ' Early European maps labelled the islands North (North Island), Middle (South Island) and South (Stewart Island / )', ' In 1830, mapmakers began to use \"North\" and \"South\" on their maps to distinguish the two largest islands, and by 1907 this was the accepted norm', ' The New Zealand Geographic Board discovered in 2009 that the names of the North Island and South Island had never been formalised, and names and alternative names were formalised in 2013', ' This set the names as North Island or , and South Island or ', ' For each island, either its English or Māori name can be used, or both can be used together', ' Similarly the Māori and English names for the whole country are sometimes used together (Aotearoa New Zealand); however, this has no official recognition', '\\n\\nHistory\\n\\nNew Zealand is one of the last major landmasses settled by humans', ' Radiocarbon dating, evidence of deforestation and mitochondrial DNA variability within Māori populations suggest that Eastern Polynesians first settled the New Zealand archipelago between 1250 and 1300, although newer archaeological and genetic research points to a date no earlier than about 1280, with at least the main settlement period between about 1320 and 1350, consistent with evidence based on genealogical traditions', ' This represented a culmination in a long series of voyages through the Pacific islands', ' Over the centuries that followed, the Polynesian settlers developed a distinct culture now known as Māori', ' The population formed different  (tribes) and  (subtribes) which would sometimes cooperate, sometimes compete and sometimes fight against each other', ' At some point, a group of Māori migrated to , now known as the Chatham Islands, where they developed their distinct Moriori culture', ' The Moriori population was all but wiped out between 1835 and 1862 in the Moriori genocide, largely because of Taranaki Māori invasion and enslavement in the 1830s, although European diseases also contributed', ' In 1862, only 101 survived, and the last known full-blooded Moriori died in 1933', \"\\n\\nIn a hostile 1642 encounter between Ngāti Tūmatakōkiri and Dutch explorer Abel Tasman's crew, four of Tasman's crew members were killed, and at least one Māori was hit by canister shot\", ' Europeans did not revisit New Zealand until 1769, when British explorer James Cook mapped almost the entire coastline', ' Following Cook, New Zealand was visited by numerous European and North American whaling, sealing, and trading ships', ' They traded European food, metal tools, weapons, and other goods for timber, Māori food, artefacts, and water', ' The introduction of the potato and the musket transformed Māori agriculture and warfare', ' Potatoes provided a reliable food surplus, which enabled longer and more sustained military campaigns', ' The resulting intertribal Musket Wars encompassed over 600 battles between 1801 and 1840, killing 30,000–40,000 Māori', ' From the early 19th century, Christian missionaries began to settle New Zealand, eventually converting most of the Māori population', ' The Māori population declined to around 40% of its pre-contact level during the 19th century; introduced diseases were the major factor', '\\n\\nThe British Government appointed James Busby as British Resident to New Zealand in 1832 following a petition from northern Māori', ' His duties were to protect British commerce, mediate between the unruly Pākehā (European) settlers and Māori, and to apprehend escaped convicts', ' In 1835, following an announcement of impending French settlement by Charles de Thierry, the nebulous United Tribes of New Zealand sent a Declaration of Independence to King William IV of the United Kingdom asking for protection', ' Ongoing unrest, the proposed settlement of New Zealand by the New Zealand Company (which had already sent its first ship of surveyors to buy land from Māori) and the dubious legal standing of the Declaration of Independence prompted the Colonial Office to send Captain William Hobson to claim sovereignty for the United Kingdom and negotiate a treaty with the Māori', ' The Treaty of Waitangi was first signed in the Bay of Islands on 6 February 1840', \" In response to the New Zealand Company's attempts to establish an independent settlement in Wellington and French settlers purchasing land in Akaroa, Hobson declared British sovereignty over all of New Zealand on 21 May 1840, even though copies of the treaty were still circulating throughout the country for Māori to sign\", ' With the signing of the treaty and declaration of sovereignty, the number of immigrants, particularly from the United Kingdom, began to increase', '\\n\\nNew Zealand was administered as part of the Colony of New South Wales until becoming a separate Crown colony, the Colony of New Zealand on 3 May 1841', ' Armed conflict began between the colonial government and Māori in 1843 with the Wairau Affray over land and disagreements over sovereignty', ' These conflicts, mainly in the North Island, saw thousands of imperial troops and the Royal Navy come to New Zealand and became known as the New Zealand Wars', ' Following these armed conflicts, large amounts of Māori land was confiscated by the government to meet settler demands', '\\n\\nThe colony gained a representative government in 1852, and the first Parliament met in 1854', ' In 1856 the colony effectively became self-governing, gaining responsibility over all domestic matters (except native policy, which was granted in the mid-1860s)', ' Following concerns that the South Island might form a separate colony, premier Alfred Domett moved a resolution to transfer the capital from Auckland to a locality near Cook Strait', ' Wellington was chosen for its central location, with Parliament officially sitting there for the first time in 1865', '\\n\\nIn 1891 the Liberal Party came to power as the first organised political party', ' The Liberal Government, led by Richard Seddon for most of its period in office, passed many important social and economic measures', ' In 1893 New Zealand was the first nation in the world to grant all women the right to vote and in 1894 pioneered the adoption of compulsory arbitration between employers and unions', '\\n\\nIn 1907, at the request of the New Zealand Parliament, King Edward VII proclaimed New Zealand a Dominion within the British Empire, reflecting its self-governing status', ' In 1947 the country adopted the Statute of Westminster, confirming that the British Parliament could no longer legislate for New Zealand without the consent of New Zealand', '\\n\\nEarly in the 20th century, New Zealand was involved in world affairs, fighting in the First and Second World Wars and suffering through the Great Depression', ' The depression led to the election of the first Labour Government and the establishment of a comprehensive welfare state and a protectionist economy', ' New Zealand experienced increasing prosperity following the Second World War, and Māori began to leave their traditional rural life and move to the cities in search of work', ' A Māori protest movement developed, which criticised Eurocentrism and worked for greater recognition of Māori culture and of the Treaty of Waitangi', ' In 1975, a Waitangi Tribunal was set up to investigate alleged breaches of the Treaty, and it was enabled to investigate historic grievances in 1985', ' The government has negotiated settlements of these grievances with many iwi, although Māori claims to the foreshore and seabed proved controversial in the 2000s', '\\n\\nGovernment and politics\\n\\nNew Zealand is a constitutional monarchy with a parliamentary democracy, although its constitution is not codified', ' Elizabeth II is the queen of New Zealand and thus the head of state', ' The queen is represented by the governor-general, whom she appoints on the advice of the prime minister', \" The governor-general can exercise the Crown's prerogative powers, such as reviewing cases of injustice and making appointments of ministers, ambassadors, and other key public officials, and in rare situations, the reserve powers (e\", 'g', ' the power to dissolve parliament or refuse the royal assent of a bill into law)', ' The powers of the monarch and the governor-general are limited by constitutional constraints, and they cannot normally be exercised without the advice of ministers', '\\n\\nThe New Zealand Parliament holds legislative power and consists of the queen and the House of Representatives', ' It also included an upper house, the Legislative Council, until this was abolished in 1950', ' The supremacy of parliament over the Crown and other government institutions was established in England by the Bill of Rights 1689 and has been ratified as law in New Zealand', ' The House of Representatives is democratically elected, and a government is formed from the party or coalition with the majority of seats', ' If no majority is formed, a minority government can be formed if support from other parties during confidence and supply votes is assured', ' The governor-general appoints ministers under advice from the prime minister, who is by convention the parliamentary leader of the governing party or coalition', ' Cabinet, formed by ministers and led by the prime minister, is the highest policy-making body in government and responsible for deciding significant government actions', ' Members of Cabinet make major decisions collectively and are therefore collectively responsible for the consequences of these decisions', '\\n\\nA parliamentary general election must be called no later than three years after the previous election', ' Almost all general elections between  and  were held under the first-past-the-post voting system', ' Since the , a form of proportional representation called mixed-member proportional (MMP) has been used', \" Under the MMP system, each person has two votes; one is for a candidate standing in the voter's electorate, and the other is for a party\", ' Based on the 2018 census data, there are 72 electorates (which include seven Māori electorates in which only Māori can optionally vote), and the remaining 48 of the 120 seats are assigned so that representation in parliament reflects the party vote, with the threshold that a party must win at least one electorate or 5% of the total party vote before it is eligible for a seat', '\\n\\nElections since the 1930s have been dominated by two political parties, National and Labour', ' Between March 2005 and August 2006, New Zealand became the first country in the world in which all the highest offices in the land\\xa0– head of state, governor-general, prime minister, speaker, and chief justice\\xa0– were occupied simultaneously by women', ' The current prime minister is Jacinda Ardern, who has been in office since 26 October 2017', \" She is the country's third female prime minister\", \"\\n\\nNew Zealand's judiciary, headed by the chief justice, includes the Supreme Court, Court of Appeal, the High Court, and subordinate courts\", ' Judges and judicial officers are appointed non-politically and under strict rules regarding tenure to help maintain judicial independence', ' This theoretically allows the judiciary to interpret the law based solely on the legislation enacted by Parliament without other influences on their decisions', \"\\n\\nNew Zealand is identified as one of the world's most stable and well-governed states\", '  the country was ranked fourth in the strength of its democratic institutions, and first in government transparency and lack of corruption', ' A 2017 human rights report by the US Department of State noted that the New Zealand government generally respected the rights of individuals, but voiced concerns regarding the social status of the Māori population', ' New Zealand ranks highly for civic participation in the political process, with 80% voter turnout during recent elections, compared to an  average of 68%', '\\n\\nForeign relations and military\\n\\nEarly colonial New Zealand allowed the British Government to determine external trade and be responsible for foreign policy', ' The 1923 and 1926 Imperial Conferences decided that New Zealand should be allowed to negotiate its own political treaties, and the first commercial treaty was ratified in 1928 with Japan', ' On 3 September 1939, New Zealand allied itself with Britain and declared war on Germany with Prime Minister Michael Joseph Savage proclaiming, \"Where she goes, we go; where she stands, we stand', '\"\\n\\nIn 1951 the United Kingdom became increasingly focused on its European interests, while New Zealand joined Australia and the United States in the ANZUS security treaty', \" The influence of the United States on New Zealand weakened following protests over the Vietnam War, the refusal of the United States to admonish France after the sinking of the Rainbow Warrior, disagreements over environmental and agricultural trade issues, and New Zealand's nuclear-free policy\", \" Despite the United States's suspension of ANZUS obligations, the treaty remained in effect between New Zealand and Australia, whose foreign policy has followed a similar historical trend\", ' Close political contact is maintained between the two countries, with free trade agreements and travel arrangements that allow citizens to visit, live and work in both countries without restrictions', '  there were about 650,000 New Zealand citizens living in Australia, which is equivalent to 15% of the population of New Zealand', '\\n\\nNew Zealand has a strong presence among the Pacific Island countries', \" A large proportion of New Zealand's aid goes to these countries, and many Pacific people migrate to New Zealand for employment\", ' Permanent migration is regulated under the 1970 Samoan Quota Scheme and the 2002 Pacific Access Category, which allow up to 1,100 Samoan nationals and up to 750 other Pacific Islanders respectively to become permanent New Zealand residents each year', ' A seasonal workers scheme for temporary migration was introduced in 2007, and in 2009 about 8,000 Pacific Islanders were employed under it', ' New Zealand is involved in the Pacific Islands Forum, the Pacific Community, Asia-Pacific Economic Cooperation, and the Association of Southeast Asian Nations Regional Forum (including the East Asia Summit)', ' New Zealand has been described as an emerging power', ' The country is a member of the United Nations, the Commonwealth of Nations and the Organisation for Economic Co-operation and Development (OECD), and participates in the Five Power Defence Arrangements', \"\\n\\nNew Zealand's military services—the Defence Force—comprise the New Zealand Army, the Royal New Zealand Air Force, and the Royal New Zealand Navy\", \" New Zealand's national defence needs are modest since a direct attack is unlikely\", ' However, its military has had a global presence', ' The country fought in both world wars, with notable campaigns in Gallipoli, Crete, El Alamein, and Cassino', \" The Gallipoli campaign played an important part in fostering New Zealand's national identity and strengthened the ANZAC tradition it shares with Australia\", '\\n\\nIn addition to Vietnam and the two world wars, New Zealand fought in the Second Boer War, the Korean War, the Malayan Emergency, the Gulf War, and the Afghanistan War', ' It has contributed forces to several regional and global peacekeeping missions, such as those in Cyprus, Somalia, Bosnia and Herzegovina, the Sinai, Angola, Cambodia, the Iran–Iraq border, Bougainville, East Timor, and the Solomon Islands', '\\n\\nLocal government and external territories\\n\\nThe early European settlers divided New Zealand into provinces, which had a degree of autonomy', ' Because of financial pressures and the desire to consolidate railways, education, land sales, and other policies, government was centralised and the provinces were abolished in 1876', ' The provinces are remembered in regional public holidays and sporting rivalries', '\\n\\nSince 1876, various councils have administered local areas under legislation determined by the central government', ' In 1989, the government reorganised local government into the current two-tier structure of regional councils and territorial authorities', ' The 249 municipalities that existed in 1975 have now been consolidated into 67 territorial authorities and 11 regional councils', ' The regional councils\\' role is to regulate \"the natural environment with particular emphasis on resource management\", while territorial authorities are responsible for sewage, water, local roads, building consents, and other local matters', ' Five of the territorial councils are unitary authorities and also act as regional councils', ' The territorial authorities consist of 13 city councils, 53 district councils, and the Chatham Islands Council', ' While officially the Chatham Islands Council is not a unitary authority, it undertakes many functions of a regional council', '\\n\\nThe Realm of New Zealand, one of 15 Commonwealth realms, is the entire area over which the queen of New Zealand is sovereign and comprises New Zealand, Tokelau, the Ross Dependency, the Cook Islands, and Niue', ' The Cook Islands and Niue are self-governing states in free association with New Zealand', ' The New Zealand Parliament cannot pass legislation for these countries, but with their consent can act on behalf of them in foreign affairs and defence', ' Tokelau is classified as a non-self-governing territory, but is administered by a council of three elders (one from each Tokelauan atoll)', \" The Ross Dependency is New Zealand's territorial claim in Antarctica, where it operates the Scott Base research facility\", ' New Zealand nationality law treats all parts of the realm equally, so most people born in New Zealand, the Cook Islands, Niue, Tokelau, and the Ross Dependency are New Zealand citizens', '\\n\\nGeography and environment\\n\\nNew Zealand is located near the centre of the water hemisphere and is made up of two main islands and more than 700 smaller islands', ' The two main islands (the North Island, or Te Ika-a-Māui, and the South Island, or Te Waipounamu) are separated by Cook Strait,  wide at its narrowest point', \" Besides the North and South Islands, the five largest inhabited islands are Stewart Island (across the Foveaux Strait), Chatham Island, Great Barrier Island (in the Hauraki Gulf), D'Urville Island (in the Marlborough Sounds) and Waiheke Island (about  from central Auckland)\", '\\n\\nNew Zealand is long and narrow—over  along its north-north-east axis with a maximum width of —with about  of coastline and a total land area of ', ' Because of its far-flung outlying islands and long coastline, the country has extensive marine resources', ' Its exclusive economic zone is one of the largest in the world, covering more than 15 times its land area', '\\n\\nThe South Island is the largest landmass of New Zealand', ' It is divided along its length by the Southern Alps', ' There are 18 peaks over , the highest of which is  / Mount Cook at ', \" Fiordland's steep mountains and deep fiords record the extensive ice age glaciation of this southwestern corner of the South Island\", ' The North Island is less mountainous but is marked by volcanism', \" The highly active Taupō Volcanic Zone has formed a large volcanic plateau, punctuated by the North Island's highest mountain, Mount Ruapehu ()\", \" The plateau also hosts the country's largest lake, Lake Taupō, nestled in the caldera of one of the world's most active supervolcanoes\", '\\n\\nThe country owes its varied topography, and perhaps even its emergence above the waves, to the dynamic boundary it straddles between the Pacific and Indo-Australian Plates', ' New Zealand is part of Zealandia, a microcontinent nearly half the size of Australia that gradually submerged after breaking away from the Gondwanan supercontinent', ' About 25 million years ago, a shift in plate tectonic movements began to contort and crumple the region', ' This is now most evident in the Southern Alps, formed by compression of the crust beside the Alpine Fault', ' Elsewhere, the plate boundary involves the subduction of one plate under the other, producing the Puysegur Trench to the south, the Hikurangi Trench east of the North Island, and the Kermadec and Tonga Trenches further north', '\\n\\nNew Zealand is part of a region known as Australasia, together with Australia', ' It also forms the southwestern extremity of the geographic and ethnographic region called Polynesia', ' The term Oceania is often used to denote the wider region encompassing the Australian continent, New Zealand and various islands in the Pacific Ocean that are not included in the seven-continent model', \"\\n\\nClimate\\n\\nNew Zealand's climate is predominantly temperate maritime (Köppen: Cfb), with mean annual temperatures ranging from  in the south to  in the north\", ' Historical maxima and minima are  in Rangiora, Canterbury and  in Ranfurly, Otago', ' Conditions vary sharply across regions from extremely wet on the West Coast of the South Island to semi-arid in Central Otago and the Mackenzie Basin of inland Canterbury, and subtropical in Northland', ' Of the seven largest cities, Christchurch is the driest, receiving on average only  of rain per year and Wellington the wettest, receiving almost twice that amount', ' Auckland, Wellington and Christchurch all receive a yearly average of more than 2,000 hours of sunshine', ' The southern and southwestern parts of the South Island have a cooler and cloudier climate, with around 1,400–1,600 hours; the northern and northeastern parts of the South Island are the sunniest areas of the country and receive about 2,400–2,500 hours', ' The general snow season is early June until early October, though cold snaps can occur outside this season', ' Snowfall is common in the eastern and southern parts of the South Island and mountain areas across the country', \"\\n\\nThe table below lists climate normals for the warmest and coldest months in New Zealand's six largest cities\", ' North Island cities are generally warmest in February', ' South Island cities are warmest in January', \"\\n\\nBiodiversity\\n\\nNew Zealand's geographic isolation for 80 million years and island biogeography has influenced evolution of the country's species of animals, fungi and plants\", ' Physical isolation has caused biological isolation, resulting in a dynamic evolutionary ecology with examples of distinctive plants and animals as well as populations of widespread species', \" The flora and fauna of New Zealand were originally thought to have originated from New Zealand's fragmentation off from Gondwana, however more recent evidence postulates species resulted from dispersal\", \" About 82% of New Zealand's indigenous vascular plants are endemic, covering 1,944 species across 65 genera\", ' The number of fungi recorded from New Zealand, including lichen-forming species, is not known, nor is the proportion of those fungi which are endemic, but one estimate suggests there are about 2,300 species of lichen-forming fungi in New Zealand and 40% of these are endemic', ' The two main types of forest are those dominated by broadleaf trees with emergent podocarps, or by southern beech in cooler climates', ' The remaining vegetation types consist of grasslands, the majority of which are tussock', '\\n\\nBefore the arrival of humans, an estimated 80% of the land was covered in forest, with only high alpine, wet, infertile and volcanic areas without trees', ' Massive deforestation occurred after humans arrived, with around half the forest cover lost to fire after Polynesian settlement', ' Much of the remaining forest fell after European settlement, being logged or cleared to make room for pastoral farming, leaving forest occupying only 23% of the land', '\\n\\nThe forests were dominated by birds, and the lack of mammalian predators led to some like the kiwi, kākāpō, weka and takahē evolving flightlessness', \" The arrival of humans, associated changes to habitat, and the introduction of rats, ferrets and other mammals led to the extinction of many bird species, including large birds like the moa and Haast's eagle\", '\\n\\nOther indigenous animals are represented by reptiles (tuatara, skinks and geckos), frogs, spiders, insects (), and snails', ' Some, such as the tuatara, are so unique that they have been called living fossils', ' Three species of bats (one since extinct) were the only sign of native land mammals in New Zealand until the 2006 discovery of bones from a unique, mouse-sized land mammal at least 16 million years old', \" Marine mammals, however, are abundant, with almost half the world's cetaceans (whales, dolphins, and porpoises) and large numbers of fur seals reported in New Zealand waters\", ' Many seabirds breed in New Zealand, a third of them unique to the country', \" More penguin species are found in New Zealand than in any other country, with 13 of the world's 18 penguin species\", \"\\n\\nSince human arrival, almost half of the country's vertebrate species have become extinct, including at least fifty-one birds, three frogs, three lizards, one freshwater fish, and one bat\", ' Others are endangered or have had their range severely reduced', ' However, New Zealand conservationists have pioneered several methods to help threatened wildlife recover, including island sanctuaries, pest control, wildlife translocation, fostering and ecological restoration of islands and other protected areas', '\\n\\nEconomy\\n\\nNew Zealand has an advanced market economy, ranked 14th in the  Human Development Index and third in the  Index of Economic Freedom', ' It is a high-income economy with a nominal gross domestic product (GDP) per capita of US$36,254', ' The currency is the New Zealand dollar, informally known as the \"Kiwi dollar\"; it also circulates in the Cook Islands (see Cook Islands dollar), Niue, Tokelau, and the Pitcairn Islands', \"\\n\\nHistorically, extractive industries have contributed strongly to New Zealand's economy, focusing at different times on sealing, whaling, flax, gold, kauri gum, and native timber\", ' The first shipment of refrigerated meat on the Dunedin in 1882 led to the establishment of meat and dairy exports to Britain, a trade which provided the basis for strong economic growth in New Zealand', ' High demand for agricultural products from the United Kingdom and the United States helped New Zealanders achieve higher living standards than both Australia and Western Europe in the 1950s and 1960s', \" In 1973, New Zealand's export market was reduced when the United Kingdom joined the European Economic Community and other compounding factors, such as the 1973 oil and 1979 energy crises, led to a severe economic depression\", ' Living standards in New Zealand fell behind those of Australia and Western Europe, and by 1982 New Zealand had the lowest per-capita income of all the developed nations surveyed by the World Bank', ' In the mid-1980s New Zealand deregulated its agricultural sector by phasing out subsidies over a three-year period', ' Since 1984, successive governments engaged in major macroeconomic restructuring (known first as Rogernomics and then Ruthanasia), rapidly transforming New Zealand from a protectionist and highly regulated economy to a liberalised free-trade economy', '\\n\\nUnemployment peaked just above 10% in 1991 and 1992, following the 1987 share market crash, but eventually fell to a record low (since 1986) of 3', '7% in 2007 (ranking third from twenty-seven comparable OECD nations)', ' However, the global financial crisis that followed had a major impact on New Zealand, with the GDP shrinking for five consecutive quarters, the longest recession in over thirty years, and unemployment rising back to 7% in late 2009', ' Unemployment rates for different age groups follow similar trends but are consistently higher among youth', ' In the December 2014 quarter, the general unemployment rate was around 5', '8%, while the unemployment rate for youth aged 15 to 21 was 15', '6%', ' New Zealand has experienced a series of \"brain drains\" since the 1970s that still continue today', ' Nearly one-quarter of highly skilled workers live overseas, mostly in Australia and Britain, which is the largest proportion from any developed nation', ' In recent decades, however, a \"brain gain\" has brought in educated professionals from Europe and less developed countries', \" Today New Zealand's economy benefits from a high level of innovation\", '\\n\\nTrade\\nNew Zealand is heavily dependent on international trade, particularly in agricultural products', ' Exports account for 24% of its output, making New Zealand vulnerable to international commodity prices and global economic slowdowns', \" Food products made up 55% of the value of all the country's exports in 2014; wood was the second largest earner (7%)\", \" New Zealand's main trading partners, , are China (NZ$27\", '8b), Australia ($26', '2b), the European Union ($22', '9b), the United States ($17', '6b), and Japan ($8', '4b)', ' On 7 April 2008, New Zealand and China signed the New Zealand–China Free Trade Agreement, the first such agreement China has signed with a developed country', ' The service sector is the largest sector in the economy, followed by manufacturing and construction and then farming and raw material extraction', ' Tourism plays a significant role in the economy, contributing $12', '9 billion (or 5', \"6%) to New Zealand's total GDP and supporting 7\", '5% of the total workforce in 2016', ' In 2017, international visitor arrivals were expected to increase at a rate of 5', '4% annually up to 2022', \"\\n\\nWool was New Zealand's major agricultural export during the late 19th century\", ' Even as late as the 1960s it made up over a third of all export revenues, but since then its price has steadily dropped relative to other commodities, and wool is no longer profitable for many farmers', \" In contrast, dairy farming increased, with the number of dairy cows doubling between 1990 and 2007, to become New Zealand's largest export earner\", ' In the year to June 2018, dairy products accounted for 17', '7% ($14', \"1 billion) of total exports, and the country's largest company, Fonterra, controls almost one-third of the international dairy trade\", ' Other exports in 2017-18 were meat (8', '8%), wood and wood products (6', '2%), fruit (3', '6%), machinery (2', '2%) and wine (2', '1%)', \" New Zealand's wine industry has followed a similar trend to dairy, the number of vineyards doubling over the same period, overtaking wool exports for the first time in 2007\", '\\n\\nInfrastructure\\nIn 2015, renewable energy generated 40', \"1% of New Zealand's gross energy supply\", \" The majority of the country's electricity supply is generated from hydroelectric power, with major schemes on the Waikato, Waitaki and Clutha / Mata-Au rivers, as well as at Manapouri\", ' Geothermal power is also a significant generator of electricity, with several large stations located across the Taupō Volcanic Zone in the North Island', ' The five main companies in the generation and retail market are Contact Energy, Genesis Energy, Mercury Energy, Meridian Energy, and TrustPower', ' State-owned Transpower operates the high-voltage transmission grids in the North and South Islands, as well as the Inter-Island HVDC link connecting the two together', '\\n\\nThe provision of water supply and sanitation is generally of good quality', ' Regional authorities provide water abstraction, treatment and distribution infrastructure to most developed areas', \"\\n\\nNew Zealand's transport network comprises  of roads, including  of motorways, and  of railway lines\", ' Most major cities and towns are linked by bus services, although the private car is the predominant mode of transport', ' The railways were privatised in 1993 but were re-nationalised by the government in stages between 2004 and 2008', ' The state-owned enterprise KiwiRail now operates the railways, with the exception of commuter services in Auckland and Wellington, which are operated by Auckland One Rail and Transdev Wellington respectively', ' Railways run the length of the country, although most lines now carry freight rather than passengers', ' The road and rail networks in the two main islands are linked by roll-on/roll-off ferries between Wellington and Picton, operated by Interislander (part of KiwiRail) and Bluebridge', ' Most international visitors arrive via air, and New Zealand has six international airports, but  only the Auckland and Christchurch airports connect directly with countries other than Australia or Fiji', '\\n\\nThe New Zealand Post Office had a monopoly over telecommunications in New Zealand until 1987 when Telecom New Zealand was formed, initially as a state-owned enterprise and then privatised in 1990', ' Chorus, which was split from Telecom (now Spark) in 2011, still owns the majority of the telecommunications infrastructure, but competition from other providers has increased', ' A large-scale rollout of gigabit-capable fibre to the premises, branded as Ultra-Fast Broadband, began in 2009 with a target of being available to 87% of the population by 2022', ' , the United Nations International Telecommunication Union ranks New Zealand 13th in the development of information and communications infrastructure', '\\n\\nScience and technology\\n\\nEarly indigenous contribution to science in New Zealand was by Māori  accumulating knowledge of agricultural practice and the effects of herbal remedies in the treatment of illness and disease', \" Cook's voyages in the 1700s and Darwin's in 1835 had important scientific botanical and zoological objectives\", ' The establishment of universities in the 19th century fostered scientific discoveries by notable New Zealanders including Ernest Rutherford for splitting the atom, William Pickering for rocket science, Maurice Wilkins for helping discover DNA, Beatrice Tinsley for galaxy formation, Archibald McIndoe for plastic surgery, and Alan MacDiarmid for conducting polymers', '\\n\\nCrown Research Institutes (CRIs) were formed in 1992 from existing government-owned research organisations', ' Their role is to research and develop new science, knowledge, products and services across the economic, environmental, social and cultural spectrum for the benefit of New Zealand', ' The total gross expenditure on research and development (R&D) as a proportion of GDP rose to 1', '37% in 2018, up from 1', '23% in 2015', ' New Zealand ranks 21st in the OECD for its gross R&D spending as a percentage of GDP', ' New Zealand was ranked 26th in the Global Innovation Index in 2020, down from 25th in 2019', '\\n\\nDemography\\n\\nThe 2018 New Zealand census enumerated a resident population of 4,699,755, an increase of 10', '8% over the 2013 census figure', ' As of  , the total population has risen to an estimated ', \" New Zealand's population increased at a rate of 1\", '9% per year in the seven years ended June 2020', ' In September 2020 Statistics New Zealand reported that the population had climbed above 5 million people in September 2019, according to population estimates based on the 2018 census', \"\\n\\nNew Zealand's population today is concentrated to the north of the country, with around % of the population living in the North Island and % in the South Island as of \", \" During the 20th century, New Zealand's population drifted north\", \" In 1921, the country's median centre of population was located in the Tasman Sea west of Levin in Manawatū-Whanganui; by 2017, it had moved  north to near Kawhia in Waikato\", '\\n\\nNew Zealand is a predominantly urban country, with % of the population living in urban areas, and % of the population living in the seven cities with populations exceeding 100,000', ' Auckland, with over 1', '4 million residents, is by far the largest city', ' New Zealand cities generally rank highly on international livability measures', \" For instance, in 2016, Auckland was ranked the world's third most liveable city and Wellington the twelfth by the Mercer Quality of Living Survey\", '\\n\\nThe median age of the New Zealand population at the 2018 census was 37', '4 years, with life expectancy in 2017-2019 being 80', '0 years for males and 83', '5 years for females', ' While New Zealand is experiencing sub-replacement fertility, with a total fertility rate of 1', '6 in 2020, the fertility rate is above the OECD average', ' By 2050, the median age is projected to rise to 43 years and the percentage of people 60 years of age and older to rise from 18% to 29%', ' In 2016 the leading cause of death was cancer at 30', '3%, followed by ischaemic heart disease (14', '9%) and cerebrovascular disease (7', '4%)', ' , total expenditure on health care (including private sector spending) is 9', '2% of GDP', '\\n\\nEthnicity and immigration\\n\\nIn the 2018 census, 71', '8% of New Zealand residents identified ethnically as European, and 16', '5% as Māori', ' Other major ethnic groups include Asian (15', '3%) and Pacific peoples (9', '0%), two-thirds of whom live in the Auckland Region', ' The population has become more multicultural and diverse in recent decades: in 1961, the census reported that the population of New Zealand was 92% European and 7% Māori, with Asian and Pacific minorities sharing the remaining 1%', '\\n\\nWhile the demonym for a New Zealand citizen is New Zealander, the informal \"Kiwi\" is commonly used both internationally and by locals', ' The Māori loanword  has been used to refer to New Zealanders of European descent, although some reject this name', ' The word today is increasingly used to refer to all non-Polynesian New Zealanders', '\\n\\nThe Māori were the first people to reach New Zealand, followed by the early European settlers', ' Following colonisation, immigrants were predominantly from Britain, Ireland and Australia because of restrictive policies similar to the White Australia policy', ' There was also significant Dutch, Dalmatian, German, and Italian immigration, together with indirect European immigration through Australia, North America, South America and South Africa', ' Net migration increased after the Second World War; in the 1970s and 1980s policies on immigration were relaxed, and immigration from Asia was promoted', ' In 2009–10, an annual target of 45,000–50,000 permanent residence approvals was set by the New Zealand Immigration Service—more than one new migrant for every 100 New Zealand residents', ' In the 2018 census, 27', '4% of people counted were not born in New Zealand, up from 25', '2% in the 2013 census', ' Over half (52', \"4%) of New Zealand's overseas-born population lives in the Auckland Region\", \" The United Kingdom remains the largest source of New Zealand's immigrant population, with around a quarter of all overseas-born New Zealanders born there; other major sources of New Zealand's overseas-born population are China, India, Australia, South Africa, Fiji and Samoa\", ' The number of fee-paying international students increased sharply in the late 1990s, with more than 20,000 studying in public tertiary institutions in 2002', '\\n\\nLanguage\\n\\nEnglish is the predominant language in New Zealand, spoken by 95', '4% of the population', ' New Zealand English is a variety of the language with a distinctive accent and lexicon', ' It is similar to Australian English, and many speakers from the Northern Hemisphere are unable to tell the accents apart', ' The most prominent differences between the New Zealand English dialect and other English dialects are the shifts in the short front vowels: the short-i sound (as in kit) has centralised towards the schwa sound (the a in comma and about); the short-e sound (as in dress) has moved towards the short-i sound; and the short-a sound (as in trap) has moved to the short-e sound', '\\n\\nAfter the Second World War, Māori were discouraged from speaking their own language () in schools and workplaces, and it existed as a community language only in a few remote areas', \" It has recently undergone a process of revitalisation, being declared one of New Zealand's official languages in 1987, and is spoken by 4\", '0% of the population', ' There are now Māori language-immersion schools and two television channels that broadcast predominantly in Māori', ' Many places have both their Māori and English names officially recognised', '\\n\\nAs recorded in the 2018 census, Samoan is the most widely spoken non-official language (2', '2%), followed by \"Northern Chinese\" (including Mandarin, 2', '0%), Hindi (1', '5%), and French (1', '2%)', ' New Zealand Sign Language was reported to be understood by 22,986 people (0', \"5%); it became one of New Zealand's official languages in 2006\", '\\n\\nReligion\\n\\nChristianity is the predominant religion in New Zealand, although its society is among the most secular in the world', ' In the 2018 census, 44', '7% of respondents identified with one or more religions, including 37', '0% identifying as Christians', ' Another 48', '5% indicated that they had no religion', ' Of those who affiliate with a particular Christian denomination, the main responses are Anglicanism (6', '7%), Roman Catholicism (6', '3%), and Presbyterianism (4', '7%)', ' The Māori-based Ringatū and Rātana religions (1', '2%) are also Christian in origin', ' Immigration and demographic change in recent decades have contributed to the growth of minority religions, such as Hinduism (2', '6%), Islam (1', '3%), Buddhism (1', '1%), and Sikhism (0', '9%)', ' The Auckland Region exhibited the greatest religious diversity', '\\n\\nEducation\\n\\nPrimary and secondary schooling is compulsory for children aged 6 to 16, with the majority of children attending from the age of 5', \" There are 13 school years and attending state (public) schools is free to New Zealand citizens and permanent residents from a person's 5th birthday to the end of the calendar year following their 19th birthday\", ' New Zealand has an adult literacy rate of 99%, and over half of the population aged 15 to 29 hold a tertiary qualification', ' There are five types of government-owned tertiary institutions: universities, colleges of education, polytechnics, specialist colleges, and wānanga, in addition to private training establishments', ' In the adult population, 14', \"2% have a bachelor's degree or higher, 30\", '4% have some form of secondary qualification as their highest qualification, and 22', '4% have no formal qualification', \" The OECD's Programme for International Student Assessment ranks New Zealand's education system as the seventh-best in the world, with students performing exceptionally well in reading, mathematics and science\", '\\n\\nCulture\\n\\nEarly Māori adapted the tropically based east Polynesian culture in line with the challenges associated with a larger and more diverse environment, eventually developing their own distinctive culture', \" Social organisation was largely communal with families (whānau), subtribes (hapū) and tribes (iwi) ruled by a chief (rangatira), whose position was subject to the community's approval\", ' The British and Irish immigrants brought aspects of their own culture to New Zealand and also influenced Māori culture, particularly with the introduction of Christianity', ' However, Māori still regard their allegiance to tribal groups as a vital part of their identity, and Māori kinship roles resemble those of other Polynesian peoples', ' More recently, American, Australian, Asian and other European cultures have exerted influence on New Zealand', \" Non-Māori Polynesian cultures are also apparent, with Pasifika, the world's largest Polynesian festival, now an annual event in Auckland\", '\\n\\nThe largely rural life in early New Zealand led to the image of New Zealanders being rugged, industrious problem solvers', ' Modesty was expected and enforced through the \"tall poppy syndrome\", where high achievers received harsh criticism', ' At the time, New Zealand was not known as an intellectual country', ' From the early 20th century until the late 1960s, Māori culture was suppressed by the attempted assimilation of Māori into British New Zealanders', ' In the 1960s, as tertiary education became more available, and cities expanded urban culture began to dominate', \" However, rural imagery and themes are common in New Zealand's art, literature and media\", \"\\n\\nNew Zealand's national symbols are influenced by natural, historical, and Māori sources\", ' The silver fern is an emblem appearing on army insignia and sporting team uniforms', ' Certain items of popular culture thought to be unique to New Zealand are called \"Kiwiana\"', '\\n\\nArt\\n\\nAs part of the resurgence of Māori culture, the traditional crafts of carving and weaving are now more widely practised, and Māori artists are increasing in number and influence', ' Most Māori carvings feature human figures, generally with three fingers and either a natural-looking, detailed head or a grotesque head', ' Surface patterns consisting of spirals, ridges, notches and fish scales decorate most carvings', ' The pre-eminent Māori architecture consisted of carved meeting houses (wharenui) decorated with symbolic carvings and illustrations', ' These buildings were originally designed to be constantly rebuilt, changing and adapting to different whims or needs', '\\n\\nMāori decorated the white wood of buildings, canoes and cenotaphs using red (a mixture of red ochre and shark fat) and black (made from soot) paint and painted pictures of birds, reptiles and other designs on cave walls', ' Māori tattoos (moko) consisting of coloured soot mixed with gum were cut into the flesh with a bone chisel', ' Since European arrival paintings and photographs have been dominated by landscapes, originally not as works of art but as factual portrayals of New Zealand', ' Portraits of Māori were also common, with early painters often portraying them as an ideal race untainted by civilisation', \" The country's isolation delayed the influence of European artistic trends allowing local artists to develop their own distinctive style of regionalism\", ' During the 1960s and 1970s, many artists combined traditional Māori and Western techniques, creating unique art forms', ' New Zealand art and craft has gradually achieved an international audience, with exhibitions in the Venice Biennale in 2001 and the \"Paradise Now\" exhibition in New York in 2004', '\\n\\nMāori cloaks are made of fine flax fibre and patterned with black, red and white triangles, diamonds and other geometric shapes', ' Greenstone was fashioned into earrings and necklaces, with the most well-known design being the hei-tiki, a distorted human figure sitting cross-legged with its head tilted to the side', ' Europeans brought English fashion etiquette to New Zealand, and until the 1950s most people dressed up for social occasions', ' Standards have since relaxed and New Zealand fashion has received a reputation for being casual, practical and lacklustre', ' However, the local fashion industry has grown significantly since 2000, doubling exports and increasing from a handful to about 50 established labels, with some labels gaining international recognition', '\\n\\nLiterature\\n\\nMāori quickly adopted writing as a means of sharing ideas, and many of their oral stories and poems were converted to the written form', ' Most early English literature was obtained from Britain, and it was not until the 1950s when local publishing outlets increased that New Zealand literature started to become widely known', ' Although still largely influenced by global trends (modernism) and events (the Great Depression), writers in the 1930s began to develop stories increasingly focused on their experiences in New Zealand', ' During this period, literature changed from a journalistic activity to a more academic pursuit', ' Participation in the world wars gave some New Zealand writers a new perspective on New Zealand culture and with the post-war expansion of universities local literature flourished', ' Dunedin is a UNESCO City of Literature', '\\n\\nMedia and entertainment\\n\\nNew Zealand music has been influenced by blues, jazz, country, rock and roll and hip hop, with many of these genres given a unique New Zealand interpretation', ' Māori developed traditional chants and songs from their ancient Southeast Asian origins, and after centuries of isolation created a unique \"monotonous\" and \"doleful\" sound', ' Flutes and trumpets were used as musical instruments or as signalling devices during war or special occasions', ' Early settlers brought over their ethnic music, with brass bands and choral music being popular, and musicians began touring New Zealand in the 1860s', ' Pipe bands became widespread during the early 20th century', ' The New Zealand recording industry began to develop from 1940 onwards, and many New Zealand musicians have obtained success in Britain and the United States', ' Some artists release Māori language songs, and the Māori tradition-based art of kapa haka (song and dance) has made a resurgence', ' The New Zealand Music Awards are held annually by Recorded Music NZ; the awards were first held in 1965 by Reckitt & Colman as the Loxene Golden Disc awards', \" Recorded Music NZ also publishes the country's official weekly record charts\", '\\n\\nPublic radio was introduced in New Zealand in 1922', ' A state-owned television service began in 1960', ' Deregulation in the 1980s saw a sudden increase in the numbers of radio and television stations', ' New Zealand television primarily broadcasts American and British programming, along with many Australian and local shows', ' The number of New Zealand films significantly increased during the 1970s', ' In 1978 the New Zealand Film Commission started assisting local film-makers, and many films attained a world audience, some receiving international acknowledgement', \" The highest-grossing New Zealand films are Hunt for the Wilderpeople, Boy, The World's Fastest Indian, Whale Rider, Once Were Warriors and The Piano\", \" The country's diverse scenery and compact size, plus government incentives, have encouraged some producers to shoot very big-budget and well known productions in New Zealand, including The Lord of the Rings and The Hobbit film trilogies, Avatar, The Chronicles of Narnia, King Kong, Wolverine and The Last Samurai\", ' The New Zealand media industry is dominated by a small number of companies, most of which are foreign-owned, although the state retains ownership of some television and radio stations', \" Since 1994, Freedom House has consistently ranked New Zealand's press freedom in the top twenty, with the 19th freest media\\n\\nSport\\n\\nMost of the major sporting codes played in New Zealand have British origins\", ' Rugby union is considered the national sport and attracts the most spectators', ' Golf, netball, tennis and cricket have the highest rates of adult participation, while netball, rugby union and football (soccer) are particularly popular among young people', ' Horse racing is one of the most popular spectator sports in New Zealand and was part of the \"rugby, racing, and beer\" subculture during the 1960s', ' Around 54% of New Zealand adolescents participate in sports for their school', ' Victorious rugby tours to Australia and the United Kingdom in the late 1880s and the early 1900s played an early role in instilling a national identity', \" Māori participation in European sports was particularly evident in rugby, and the country's team performs a haka, a traditional Māori challenge, before international matches\", ' New Zealand is known for its extreme sports, adventure tourism and strong mountaineering tradition, as seen in the success of notable New Zealander Sir Edmund Hillary', ' Other outdoor pursuits such as cycling, fishing, swimming, running, tramping, canoeing, hunting, snowsports, surfing and sailing are also popular', \" New Zealand has seen regular sailing success in the America's Cup regatta since 1995\", ' The Polynesian sport of waka ama racing has experienced a resurgence of interest in New Zealand since the 1980s', '\\n\\nNew Zealand has competitive international teams in rugby union, rugby league, netball, cricket, softball, and sailing', ' New Zealand participated at the Summer Olympics in 1908 and 1912 as a joint team with Australia, before first participating on its own in 1920', ' The country has ranked highly on a medals-to-population ratio at recent Games', ' The \"All Blacks\", the national rugby union team, are the most successful in the history of international rugby and have won the World Cup three times', '\\n\\nCuisine\\n\\nThe national cuisine has been described as Pacific Rim, incorporating the native Māori cuisine and diverse culinary traditions introduced by settlers and immigrants from Europe, Polynesia, and Asia', ' New Zealand yields produce from land and sea—most crops and livestock, such as maize, potatoes and pigs, were gradually introduced by the early European settlers', ' Distinctive ingredients or dishes include lamb, salmon,  (crayfish), Bluff oysters, whitebait,  (abalone), mussels, scallops,  and  (types of New Zealand shellfish),  (sweet potato), kiwifruit, tamarillo, and pavlova (considered a national dessert)', ' A hāngi is a traditional Māori method of cooking food using heated rocks buried in a pit oven; still used for large groups on special occasions, such as tangihanga', '\\n\\nSee also\\n\\n List of New Zealand-related topics\\n Outline of New Zealand\\n\\nFootnotes\\n\\nCitations\\n\\nReferences\\n\\nFurther reading\\n\\n \\n \\n \\n  (Annual', ')\\n\\nExternal links\\n\\nGovernment\\n New Zealand Government portal\\n New Zealand Ministry for Culture and Heritage – includes information on flag, anthems and coat of arms\\n Statistics New Zealand\\n\\nTravel\\n Official site of New Zealand Tourism\\n\\nGeneral Information\\n \"New Zealand\" entry in The World Factbook, US Central Intelligence Agency\\n \\n New Zealand news from BBC News\\n Te Ara: The Encyclopedia of New Zealand\\n New Zealand OECD\\n New Zealand, directory from UCB Libraries GovPubs\\n \"New Zealand\" in Encyclopædia Britannica\\n New Zealand weather\\n Key Development Forecasts for New Zealand from International Futures\\n \\n \\n\\n \\nArchipelagoes of the Pacific Ocean\\nCountries in Australasia\\nCountries in Polynesia\\nEnglish-speaking countries and territories\\nIsland countries\\nMember states of the Commonwealth of Nations\\nCurrent member states of the United Nations\\nStates and territories established in 1907\\nZealandia\\nCountries in Oceania']\n"
          ]
        }
      ]
    },
    {
      "cell_type": "code",
      "source": [
        "# defining the query\n",
        "\n",
        "query = 'What is the capital of New Zealand?'"
      ],
      "metadata": {
        "id": "Hc6x4ORDjtH-"
      },
      "execution_count": null,
      "outputs": []
    }
  ]
}